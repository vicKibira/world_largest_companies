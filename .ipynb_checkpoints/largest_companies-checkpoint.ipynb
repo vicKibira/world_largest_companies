{
 "cells": [
  {
   "cell_type": "code",
   "execution_count": 1,
   "id": "245575af-a088-4fc9-9d56-8f5a59e0d422",
   "metadata": {},
   "outputs": [],
   "source": [
    "import pandas as pd"
   ]
  },
  {
   "cell_type": "code",
   "execution_count": 2,
   "id": "074ca99a-cb73-4b61-9b2d-c0effbbcd9f8",
   "metadata": {},
   "outputs": [],
   "source": [
    "#this is alist so there is need for us to coonvert it into a dataframe\n",
    "df_world = pd.read_csv('world_revenue.csv')"
   ]
  },
  {
   "cell_type": "code",
   "execution_count": 3,
   "id": "cb4007c5-2dab-4fac-9d40-d9846a7c4795",
   "metadata": {},
   "outputs": [],
   "source": [
    "#converting my data to a dataframe\n",
    "df = pd.DataFrame(df_world)"
   ]
  },
  {
   "cell_type": "code",
   "execution_count": 4,
   "id": "f9d3ada7-2cb1-4b57-90d6-299f4bf22239",
   "metadata": {},
   "outputs": [],
   "source": [
    "df.to_csv(\"world_largest_companies_updated.csv\", index=False)"
   ]
  },
  {
   "cell_type": "code",
   "execution_count": 5,
   "id": "08628a7e-3809-4632-8d76-9d6fbfa2e0d5",
   "metadata": {},
   "outputs": [],
   "source": [
    "df = pd.read_csv(\"world_largest_companies_updated.csv\", sep=',')"
   ]
  },
  {
   "cell_type": "code",
   "execution_count": 6,
   "id": "2f700f99-2da0-4645-b04d-5ab0389e417d",
   "metadata": {},
   "outputs": [
    {
     "data": {
      "text/html": [
       "<div>\n",
       "<style scoped>\n",
       "    .dataframe tbody tr th:only-of-type {\n",
       "        vertical-align: middle;\n",
       "    }\n",
       "\n",
       "    .dataframe tbody tr th {\n",
       "        vertical-align: top;\n",
       "    }\n",
       "\n",
       "    .dataframe thead th {\n",
       "        text-align: right;\n",
       "    }\n",
       "</style>\n",
       "<table border=\"1\" class=\"dataframe\">\n",
       "  <thead>\n",
       "    <tr style=\"text-align: right;\">\n",
       "      <th></th>\n",
       "      <th>Rank</th>\n",
       "      <th>Name</th>\n",
       "      <th>Industry</th>\n",
       "      <th>Revenue (USD millions)</th>\n",
       "      <th>Revenue growth</th>\n",
       "      <th>Employees</th>\n",
       "      <th>Headquarters</th>\n",
       "    </tr>\n",
       "  </thead>\n",
       "  <tbody>\n",
       "    <tr>\n",
       "      <th>0</th>\n",
       "      <td>1</td>\n",
       "      <td>Walmart</td>\n",
       "      <td>Retail</td>\n",
       "      <td>611289</td>\n",
       "      <td>6.7%</td>\n",
       "      <td>2100000</td>\n",
       "      <td>Bentonville, Arkansas</td>\n",
       "    </tr>\n",
       "    <tr>\n",
       "      <th>1</th>\n",
       "      <td>2</td>\n",
       "      <td>Amazon</td>\n",
       "      <td>Retail and cloud computing</td>\n",
       "      <td>513983</td>\n",
       "      <td>9.4%</td>\n",
       "      <td>1540000</td>\n",
       "      <td>Seattle, Washington</td>\n",
       "    </tr>\n",
       "    <tr>\n",
       "      <th>2</th>\n",
       "      <td>3</td>\n",
       "      <td>ExxonMobil</td>\n",
       "      <td>Petroleum industry</td>\n",
       "      <td>413680</td>\n",
       "      <td>44.8%</td>\n",
       "      <td>62000</td>\n",
       "      <td>Spring, Texas</td>\n",
       "    </tr>\n",
       "    <tr>\n",
       "      <th>3</th>\n",
       "      <td>4</td>\n",
       "      <td>Apple</td>\n",
       "      <td>Electronics industry</td>\n",
       "      <td>394328</td>\n",
       "      <td>7.8%</td>\n",
       "      <td>164000</td>\n",
       "      <td>Cupertino, California</td>\n",
       "    </tr>\n",
       "    <tr>\n",
       "      <th>4</th>\n",
       "      <td>5</td>\n",
       "      <td>UnitedHealth Group</td>\n",
       "      <td>Healthcare</td>\n",
       "      <td>324162</td>\n",
       "      <td>12.7%</td>\n",
       "      <td>400000</td>\n",
       "      <td>Minnetonka, Minnesota</td>\n",
       "    </tr>\n",
       "  </tbody>\n",
       "</table>\n",
       "</div>"
      ],
      "text/plain": [
       "   Rank                Name                    Industry  \\\n",
       "0     1             Walmart                      Retail   \n",
       "1     2              Amazon  Retail and cloud computing   \n",
       "2     3          ExxonMobil          Petroleum industry   \n",
       "3     4               Apple        Electronics industry   \n",
       "4     5  UnitedHealth Group                  Healthcare   \n",
       "\n",
       "   Revenue (USD millions) Revenue growth Employees           Headquarters  \n",
       "0                  611289           6.7%   2100000  Bentonville, Arkansas  \n",
       "1                  513983           9.4%   1540000    Seattle, Washington  \n",
       "2                  413680          44.8%     62000          Spring, Texas  \n",
       "3                  394328           7.8%    164000  Cupertino, California  \n",
       "4                  324162          12.7%    400000  Minnetonka, Minnesota  "
      ]
     },
     "execution_count": 6,
     "metadata": {},
     "output_type": "execute_result"
    }
   ],
   "source": [
    "df.head()"
   ]
  },
  {
   "cell_type": "code",
   "execution_count": 7,
   "id": "836dcbc1-0c80-4f38-928b-09717a29e6c0",
   "metadata": {},
   "outputs": [],
   "source": [
    "#drop unnecessary column\n",
    "#to_drop = ['Headquarters']\n",
    "\n",
    "#df.drop(to_drop, inplace=True, axis=1)"
   ]
  },
  {
   "cell_type": "code",
   "execution_count": 8,
   "id": "7fe8f60a-259d-460c-b7ab-d3f464617402",
   "metadata": {},
   "outputs": [
    {
     "data": {
      "text/html": [
       "<div>\n",
       "<style scoped>\n",
       "    .dataframe tbody tr th:only-of-type {\n",
       "        vertical-align: middle;\n",
       "    }\n",
       "\n",
       "    .dataframe tbody tr th {\n",
       "        vertical-align: top;\n",
       "    }\n",
       "\n",
       "    .dataframe thead th {\n",
       "        text-align: right;\n",
       "    }\n",
       "</style>\n",
       "<table border=\"1\" class=\"dataframe\">\n",
       "  <thead>\n",
       "    <tr style=\"text-align: right;\">\n",
       "      <th></th>\n",
       "      <th>Rank</th>\n",
       "      <th>Name</th>\n",
       "      <th>Industry</th>\n",
       "      <th>Revenue (USD millions)</th>\n",
       "      <th>Revenue growth</th>\n",
       "      <th>Employees</th>\n",
       "      <th>Headquarters</th>\n",
       "    </tr>\n",
       "  </thead>\n",
       "  <tbody>\n",
       "    <tr>\n",
       "      <th>0</th>\n",
       "      <td>1</td>\n",
       "      <td>Walmart</td>\n",
       "      <td>Retail</td>\n",
       "      <td>611289</td>\n",
       "      <td>6.7%</td>\n",
       "      <td>2100000</td>\n",
       "      <td>Bentonville, Arkansas</td>\n",
       "    </tr>\n",
       "    <tr>\n",
       "      <th>1</th>\n",
       "      <td>2</td>\n",
       "      <td>Amazon</td>\n",
       "      <td>Retail and cloud computing</td>\n",
       "      <td>513983</td>\n",
       "      <td>9.4%</td>\n",
       "      <td>1540000</td>\n",
       "      <td>Seattle, Washington</td>\n",
       "    </tr>\n",
       "    <tr>\n",
       "      <th>2</th>\n",
       "      <td>3</td>\n",
       "      <td>ExxonMobil</td>\n",
       "      <td>Petroleum industry</td>\n",
       "      <td>413680</td>\n",
       "      <td>44.8%</td>\n",
       "      <td>62000</td>\n",
       "      <td>Spring, Texas</td>\n",
       "    </tr>\n",
       "    <tr>\n",
       "      <th>3</th>\n",
       "      <td>4</td>\n",
       "      <td>Apple</td>\n",
       "      <td>Electronics industry</td>\n",
       "      <td>394328</td>\n",
       "      <td>7.8%</td>\n",
       "      <td>164000</td>\n",
       "      <td>Cupertino, California</td>\n",
       "    </tr>\n",
       "    <tr>\n",
       "      <th>4</th>\n",
       "      <td>5</td>\n",
       "      <td>UnitedHealth Group</td>\n",
       "      <td>Healthcare</td>\n",
       "      <td>324162</td>\n",
       "      <td>12.7%</td>\n",
       "      <td>400000</td>\n",
       "      <td>Minnetonka, Minnesota</td>\n",
       "    </tr>\n",
       "  </tbody>\n",
       "</table>\n",
       "</div>"
      ],
      "text/plain": [
       "   Rank                Name                    Industry  \\\n",
       "0     1             Walmart                      Retail   \n",
       "1     2              Amazon  Retail and cloud computing   \n",
       "2     3          ExxonMobil          Petroleum industry   \n",
       "3     4               Apple        Electronics industry   \n",
       "4     5  UnitedHealth Group                  Healthcare   \n",
       "\n",
       "   Revenue (USD millions) Revenue growth Employees           Headquarters  \n",
       "0                  611289           6.7%   2100000  Bentonville, Arkansas  \n",
       "1                  513983           9.4%   1540000    Seattle, Washington  \n",
       "2                  413680          44.8%     62000          Spring, Texas  \n",
       "3                  394328           7.8%    164000  Cupertino, California  \n",
       "4                  324162          12.7%    400000  Minnetonka, Minnesota  "
      ]
     },
     "execution_count": 8,
     "metadata": {},
     "output_type": "execute_result"
    }
   ],
   "source": [
    "df.head()"
   ]
  },
  {
   "cell_type": "code",
   "execution_count": 9,
   "id": "22db0fcd-da11-4ba5-bbfd-1ec7f6dfdbf9",
   "metadata": {},
   "outputs": [],
   "source": [
    "#dropping the index\n",
    "df.reset_index(drop=True, inplace=True)\n",
    "\n",
    "#if you were to set the index\n",
    "#df = df.set_index('identifier')"
   ]
  },
  {
   "cell_type": "code",
   "execution_count": 10,
   "id": "c4753798-0842-4133-8a1d-4ce929ef2555",
   "metadata": {},
   "outputs": [
    {
     "data": {
      "text/html": [
       "<div>\n",
       "<style scoped>\n",
       "    .dataframe tbody tr th:only-of-type {\n",
       "        vertical-align: middle;\n",
       "    }\n",
       "\n",
       "    .dataframe tbody tr th {\n",
       "        vertical-align: top;\n",
       "    }\n",
       "\n",
       "    .dataframe thead th {\n",
       "        text-align: right;\n",
       "    }\n",
       "</style>\n",
       "<table border=\"1\" class=\"dataframe\">\n",
       "  <thead>\n",
       "    <tr style=\"text-align: right;\">\n",
       "      <th></th>\n",
       "      <th>Rank</th>\n",
       "      <th>Name</th>\n",
       "      <th>Industry</th>\n",
       "      <th>Revenue (USD millions)</th>\n",
       "      <th>Revenue growth</th>\n",
       "      <th>Employees</th>\n",
       "      <th>Headquarters</th>\n",
       "    </tr>\n",
       "  </thead>\n",
       "  <tbody>\n",
       "    <tr>\n",
       "      <th>0</th>\n",
       "      <td>1</td>\n",
       "      <td>Walmart</td>\n",
       "      <td>Retail</td>\n",
       "      <td>611289</td>\n",
       "      <td>6.7%</td>\n",
       "      <td>2100000</td>\n",
       "      <td>Bentonville, Arkansas</td>\n",
       "    </tr>\n",
       "    <tr>\n",
       "      <th>1</th>\n",
       "      <td>2</td>\n",
       "      <td>Amazon</td>\n",
       "      <td>Retail and cloud computing</td>\n",
       "      <td>513983</td>\n",
       "      <td>9.4%</td>\n",
       "      <td>1540000</td>\n",
       "      <td>Seattle, Washington</td>\n",
       "    </tr>\n",
       "    <tr>\n",
       "      <th>2</th>\n",
       "      <td>3</td>\n",
       "      <td>ExxonMobil</td>\n",
       "      <td>Petroleum industry</td>\n",
       "      <td>413680</td>\n",
       "      <td>44.8%</td>\n",
       "      <td>62000</td>\n",
       "      <td>Spring, Texas</td>\n",
       "    </tr>\n",
       "    <tr>\n",
       "      <th>3</th>\n",
       "      <td>4</td>\n",
       "      <td>Apple</td>\n",
       "      <td>Electronics industry</td>\n",
       "      <td>394328</td>\n",
       "      <td>7.8%</td>\n",
       "      <td>164000</td>\n",
       "      <td>Cupertino, California</td>\n",
       "    </tr>\n",
       "    <tr>\n",
       "      <th>4</th>\n",
       "      <td>5</td>\n",
       "      <td>UnitedHealth Group</td>\n",
       "      <td>Healthcare</td>\n",
       "      <td>324162</td>\n",
       "      <td>12.7%</td>\n",
       "      <td>400000</td>\n",
       "      <td>Minnetonka, Minnesota</td>\n",
       "    </tr>\n",
       "  </tbody>\n",
       "</table>\n",
       "</div>"
      ],
      "text/plain": [
       "   Rank                Name                    Industry  \\\n",
       "0     1             Walmart                      Retail   \n",
       "1     2              Amazon  Retail and cloud computing   \n",
       "2     3          ExxonMobil          Petroleum industry   \n",
       "3     4               Apple        Electronics industry   \n",
       "4     5  UnitedHealth Group                  Healthcare   \n",
       "\n",
       "   Revenue (USD millions) Revenue growth Employees           Headquarters  \n",
       "0                  611289           6.7%   2100000  Bentonville, Arkansas  \n",
       "1                  513983           9.4%   1540000    Seattle, Washington  \n",
       "2                  413680          44.8%     62000          Spring, Texas  \n",
       "3                  394328           7.8%    164000  Cupertino, California  \n",
       "4                  324162          12.7%    400000  Minnetonka, Minnesota  "
      ]
     },
     "execution_count": 10,
     "metadata": {},
     "output_type": "execute_result"
    }
   ],
   "source": [
    "df.head()"
   ]
  },
  {
   "cell_type": "code",
   "execution_count": 11,
   "id": "272cbb02-e666-4746-a5fd-2ad1e60e5293",
   "metadata": {},
   "outputs": [],
   "source": [
    "#lowercase all the columns and replace spaces with underscores\n",
    "df.columns = df.columns.str.lower().str.replace(\" \", \"_\")\n"
   ]
  },
  {
   "cell_type": "code",
   "execution_count": 12,
   "id": "725f80fb-1a25-413c-92d5-2831c887ca51",
   "metadata": {},
   "outputs": [
    {
     "data": {
      "text/plain": [
       "rank                       int64\n",
       "name                      object\n",
       "industry                  object\n",
       "revenue_(usd_millions)     int64\n",
       "revenue_growth            object\n",
       "employees                 object\n",
       "headquarters              object\n",
       "dtype: object"
      ]
     },
     "execution_count": 12,
     "metadata": {},
     "output_type": "execute_result"
    }
   ],
   "source": [
    "df.dtypes"
   ]
  },
  {
   "cell_type": "code",
   "execution_count": 13,
   "id": "f2cbefd5-bbf4-4e87-b87b-f6ee3f127001",
   "metadata": {},
   "outputs": [],
   "source": [
    "string_columns = list(df.dtypes[df.dtypes == 'object'].index)\n",
    "\n",
    "#also lowercasing and replacing all spaces with underscores for string columns\n",
    "for col in string_columns:\n",
    "    df[col] = df[col].str.lower().replace(\" \", \"\")"
   ]
  },
  {
   "cell_type": "code",
   "execution_count": 14,
   "id": "40dd7975-d250-4b10-aabb-5c1fed41ed53",
   "metadata": {},
   "outputs": [
    {
     "data": {
      "text/html": [
       "<div>\n",
       "<style scoped>\n",
       "    .dataframe tbody tr th:only-of-type {\n",
       "        vertical-align: middle;\n",
       "    }\n",
       "\n",
       "    .dataframe tbody tr th {\n",
       "        vertical-align: top;\n",
       "    }\n",
       "\n",
       "    .dataframe thead th {\n",
       "        text-align: right;\n",
       "    }\n",
       "</style>\n",
       "<table border=\"1\" class=\"dataframe\">\n",
       "  <thead>\n",
       "    <tr style=\"text-align: right;\">\n",
       "      <th></th>\n",
       "      <th>rank</th>\n",
       "      <th>name</th>\n",
       "      <th>industry</th>\n",
       "      <th>revenue_(usd_millions)</th>\n",
       "      <th>revenue_growth</th>\n",
       "      <th>employees</th>\n",
       "      <th>headquarters</th>\n",
       "    </tr>\n",
       "  </thead>\n",
       "  <tbody>\n",
       "    <tr>\n",
       "      <th>0</th>\n",
       "      <td>1</td>\n",
       "      <td>walmart</td>\n",
       "      <td>retail</td>\n",
       "      <td>611289</td>\n",
       "      <td>6.7%</td>\n",
       "      <td>2100000</td>\n",
       "      <td>bentonville, arkansas</td>\n",
       "    </tr>\n",
       "    <tr>\n",
       "      <th>1</th>\n",
       "      <td>2</td>\n",
       "      <td>amazon</td>\n",
       "      <td>retail and cloud computing</td>\n",
       "      <td>513983</td>\n",
       "      <td>9.4%</td>\n",
       "      <td>1540000</td>\n",
       "      <td>seattle, washington</td>\n",
       "    </tr>\n",
       "    <tr>\n",
       "      <th>2</th>\n",
       "      <td>3</td>\n",
       "      <td>exxonmobil</td>\n",
       "      <td>petroleum industry</td>\n",
       "      <td>413680</td>\n",
       "      <td>44.8%</td>\n",
       "      <td>62000</td>\n",
       "      <td>spring, texas</td>\n",
       "    </tr>\n",
       "    <tr>\n",
       "      <th>3</th>\n",
       "      <td>4</td>\n",
       "      <td>apple</td>\n",
       "      <td>electronics industry</td>\n",
       "      <td>394328</td>\n",
       "      <td>7.8%</td>\n",
       "      <td>164000</td>\n",
       "      <td>cupertino, california</td>\n",
       "    </tr>\n",
       "    <tr>\n",
       "      <th>4</th>\n",
       "      <td>5</td>\n",
       "      <td>unitedhealth group</td>\n",
       "      <td>healthcare</td>\n",
       "      <td>324162</td>\n",
       "      <td>12.7%</td>\n",
       "      <td>400000</td>\n",
       "      <td>minnetonka, minnesota</td>\n",
       "    </tr>\n",
       "  </tbody>\n",
       "</table>\n",
       "</div>"
      ],
      "text/plain": [
       "   rank                name                    industry  \\\n",
       "0     1             walmart                      retail   \n",
       "1     2              amazon  retail and cloud computing   \n",
       "2     3          exxonmobil          petroleum industry   \n",
       "3     4               apple        electronics industry   \n",
       "4     5  unitedhealth group                  healthcare   \n",
       "\n",
       "   revenue_(usd_millions) revenue_growth employees           headquarters  \n",
       "0                  611289           6.7%   2100000  bentonville, arkansas  \n",
       "1                  513983           9.4%   1540000    seattle, washington  \n",
       "2                  413680          44.8%     62000          spring, texas  \n",
       "3                  394328           7.8%    164000  cupertino, california  \n",
       "4                  324162          12.7%    400000  minnetonka, minnesota  "
      ]
     },
     "execution_count": 14,
     "metadata": {},
     "output_type": "execute_result"
    }
   ],
   "source": [
    "df.head()"
   ]
  },
  {
   "cell_type": "code",
   "execution_count": 15,
   "id": "dd17e5a8-8401-4fb4-b398-1b8443b39382",
   "metadata": {},
   "outputs": [],
   "source": [
    "#writing back to csv after cleaning\n",
    "df.to_csv(\"new_worlds_largest_companies.csv\", index=False)"
   ]
  },
  {
   "cell_type": "code",
   "execution_count": 16,
   "id": "0d6aa944-2cb9-4be7-a128-c3610ec8cd07",
   "metadata": {},
   "outputs": [],
   "source": [
    "df = pd.read_csv(\"new_worlds_largest_companies.csv\", sep=',')"
   ]
  },
  {
   "cell_type": "code",
   "execution_count": 17,
   "id": "04303a6b-c500-4d21-9b26-714da6196608",
   "metadata": {},
   "outputs": [
    {
     "data": {
      "text/html": [
       "<div>\n",
       "<style scoped>\n",
       "    .dataframe tbody tr th:only-of-type {\n",
       "        vertical-align: middle;\n",
       "    }\n",
       "\n",
       "    .dataframe tbody tr th {\n",
       "        vertical-align: top;\n",
       "    }\n",
       "\n",
       "    .dataframe thead th {\n",
       "        text-align: right;\n",
       "    }\n",
       "</style>\n",
       "<table border=\"1\" class=\"dataframe\">\n",
       "  <thead>\n",
       "    <tr style=\"text-align: right;\">\n",
       "      <th></th>\n",
       "      <th>rank</th>\n",
       "      <th>name</th>\n",
       "      <th>industry</th>\n",
       "      <th>revenue_(usd_millions)</th>\n",
       "      <th>revenue_growth</th>\n",
       "      <th>employees</th>\n",
       "      <th>headquarters</th>\n",
       "    </tr>\n",
       "  </thead>\n",
       "  <tbody>\n",
       "    <tr>\n",
       "      <th>0</th>\n",
       "      <td>1</td>\n",
       "      <td>walmart</td>\n",
       "      <td>retail</td>\n",
       "      <td>611289</td>\n",
       "      <td>6.7%</td>\n",
       "      <td>2100000</td>\n",
       "      <td>bentonville, arkansas</td>\n",
       "    </tr>\n",
       "    <tr>\n",
       "      <th>1</th>\n",
       "      <td>2</td>\n",
       "      <td>amazon</td>\n",
       "      <td>retail and cloud computing</td>\n",
       "      <td>513983</td>\n",
       "      <td>9.4%</td>\n",
       "      <td>1540000</td>\n",
       "      <td>seattle, washington</td>\n",
       "    </tr>\n",
       "    <tr>\n",
       "      <th>2</th>\n",
       "      <td>3</td>\n",
       "      <td>exxonmobil</td>\n",
       "      <td>petroleum industry</td>\n",
       "      <td>413680</td>\n",
       "      <td>44.8%</td>\n",
       "      <td>62000</td>\n",
       "      <td>spring, texas</td>\n",
       "    </tr>\n",
       "    <tr>\n",
       "      <th>3</th>\n",
       "      <td>4</td>\n",
       "      <td>apple</td>\n",
       "      <td>electronics industry</td>\n",
       "      <td>394328</td>\n",
       "      <td>7.8%</td>\n",
       "      <td>164000</td>\n",
       "      <td>cupertino, california</td>\n",
       "    </tr>\n",
       "    <tr>\n",
       "      <th>4</th>\n",
       "      <td>5</td>\n",
       "      <td>unitedhealth group</td>\n",
       "      <td>healthcare</td>\n",
       "      <td>324162</td>\n",
       "      <td>12.7%</td>\n",
       "      <td>400000</td>\n",
       "      <td>minnetonka, minnesota</td>\n",
       "    </tr>\n",
       "  </tbody>\n",
       "</table>\n",
       "</div>"
      ],
      "text/plain": [
       "   rank                name                    industry  \\\n",
       "0     1             walmart                      retail   \n",
       "1     2              amazon  retail and cloud computing   \n",
       "2     3          exxonmobil          petroleum industry   \n",
       "3     4               apple        electronics industry   \n",
       "4     5  unitedhealth group                  healthcare   \n",
       "\n",
       "   revenue_(usd_millions) revenue_growth employees           headquarters  \n",
       "0                  611289           6.7%   2100000  bentonville, arkansas  \n",
       "1                  513983           9.4%   1540000    seattle, washington  \n",
       "2                  413680          44.8%     62000          spring, texas  \n",
       "3                  394328           7.8%    164000  cupertino, california  \n",
       "4                  324162          12.7%    400000  minnetonka, minnesota  "
      ]
     },
     "execution_count": 17,
     "metadata": {},
     "output_type": "execute_result"
    }
   ],
   "source": [
    "df.head()"
   ]
  },
  {
   "cell_type": "code",
   "execution_count": 18,
   "id": "0b68985a-6724-4975-87ae-65fadc3c5abe",
   "metadata": {},
   "outputs": [],
   "source": [
    "from pyspark.sql import SparkSession\n",
    "from pyspark.sql import types\n",
    "from pyspark.conf import SparkConf"
   ]
  },
  {
   "cell_type": "code",
   "execution_count": 19,
   "id": "9561bdc7-b46e-4a49-9413-09444349938e",
   "metadata": {},
   "outputs": [
    {
     "data": {
      "text/plain": [
       "<pyspark.conf.SparkConf at 0x7f83cc6a5010>"
      ]
     },
     "execution_count": 19,
     "metadata": {},
     "output_type": "execute_result"
    }
   ],
   "source": [
    "#setting up the postgresjar\n",
    "conf = SparkConf()\n",
    "conf.set('spark.jars', 'postgresql-42.7.3.jar')"
   ]
  },
  {
   "cell_type": "code",
   "execution_count": 20,
   "id": "44abcd72-312b-4bb2-a2f0-415ebf43cfd4",
   "metadata": {},
   "outputs": [
    {
     "name": "stderr",
     "output_type": "stream",
     "text": [
      "24/05/10 12:55:24 WARN Utils: Your hostname, DESKTOP-R4B4RHT resolves to a loopback address: 127.0.1.1; using 172.30.252.130 instead (on interface eth0)\n",
      "24/05/10 12:55:24 WARN Utils: Set SPARK_LOCAL_IP if you need to bind to another address\n",
      "24/05/10 12:55:26 WARN NativeCodeLoader: Unable to load native-hadoop library for your platform... using builtin-java classes where applicable\n",
      "Setting default log level to \"WARN\".\n",
      "To adjust logging level use sc.setLogLevel(newLevel). For SparkR, use setLogLevel(newLevel).\n"
     ]
    }
   ],
   "source": [
    "spark = SparkSession.builder \\\n",
    "         .config(conf=conf) \\\n",
    "         .master(\"local[*]\") \\\n",
    "         .appName(\"pyspark data loadng\") \\\n",
    "         .config(\"spark.executor.memory\", \"4g\") \\\n",
    "         .config(\"spark.executor.cores\", \"3\") \\\n",
    "         .config(\"spark.cores.max\", \"3\") \\\n",
    "         .enableHiveSupport() \\\n",
    "         .getOrCreate()"
   ]
  },
  {
   "cell_type": "code",
   "execution_count": 21,
   "id": "f837ef87-eca5-4a7e-9763-07ac92e64f92",
   "metadata": {},
   "outputs": [],
   "source": [
    "spark_df = spark.createDataFrame(df)"
   ]
  },
  {
   "cell_type": "code",
   "execution_count": 22,
   "id": "e88e91b8-0cbd-4d9e-8c31-4fbff9dd5bba",
   "metadata": {},
   "outputs": [
    {
     "name": "stderr",
     "output_type": "stream",
     "text": [
      "                                                                                \r"
     ]
    },
    {
     "name": "stdout",
     "output_type": "stream",
     "text": [
      "+----+--------------------+--------------------+----------------------+--------------+---------+--------------------+\n",
      "|rank|                name|            industry|revenue_(usd_millions)|revenue_growth|employees|        headquarters|\n",
      "+----+--------------------+--------------------+----------------------+--------------+---------+--------------------+\n",
      "|   1|             walmart|              retail|                611289|          6.7%|  2100000|bentonville, arka...|\n",
      "|   2|              amazon|retail and cloud ...|                513983|          9.4%|  1540000| seattle, washington|\n",
      "|   3|          exxonmobil|  petroleum industry|                413680|         44.8%|    62000|       spring, texas|\n",
      "|   4|               apple|electronics industry|                394328|          7.8%|   164000|cupertino, califo...|\n",
      "|   5|  unitedhealth group|          healthcare|                324162|         12.7%|   400000|minnetonka, minne...|\n",
      "|   6|          cvs health|          healthcare|                322467|         10.4%|   259500|woonsocket, rhode...|\n",
      "|   7|  berkshire hathaway|        conglomerate|                302089|          9.4%|   383000|     omaha, nebraska|\n",
      "|   8|            alphabet|technology and cl...|                282836|          9.8%|   156000|mountain view, ca...|\n",
      "|   9|mckesson corporation|              health|                276711|          4.8%|    48500|       irving, texas|\n",
      "|  10| chevron corporation|  petroleum industry|                246252|         51.6%|    43846|san ramon, califo...|\n",
      "|  11|             cencora|  pharmacy wholesale|                238587|         11.5%|    41500|chesterbrook, pen...|\n",
      "|  12|              costco|              retail|                226954|         15.8%|   304000|issaquah, washington|\n",
      "|  13|           microsoft|technology and cl...|                198270|         18.0%|   221000| redmond, washington|\n",
      "|  14|     cardinal health|          healthcare|                181364|         11.6%|    46035|        dublin, ohio|\n",
      "|  15|               cigna|    health insurance|                180516|          3.7%|    70231|bloomfield, conne...|\n",
      "|  16|  marathon petroleum|  petroleum industry|                180012|         27.6%|    17800|       findlay, ohio|\n",
      "|  17|         phillips 66|  petroleum industry|                175702|         53.0%|    13000|      houston, texas|\n",
      "|  18|       valero energy|  petroleum industry|                171189|         58.0%|     9743|  san antonio, texas|\n",
      "|  19|  ford motor company| automotive industry|                158057|         15.9%|   173000|  dearborn, michigan|\n",
      "|  20|      the home depot|              retail|                157403|          4.1%|   471600|    atlanta, georgia|\n",
      "+----+--------------------+--------------------+----------------------+--------------+---------+--------------------+\n",
      "only showing top 20 rows\n",
      "\n"
     ]
    }
   ],
   "source": [
    "spark_df.show()"
   ]
  },
  {
   "cell_type": "code",
   "execution_count": 23,
   "id": "3bc6bc15-1120-4c07-9241-ba41828db25a",
   "metadata": {},
   "outputs": [
    {
     "data": {
      "text/plain": [
       "StructType([StructField('rank', LongType(), True), StructField('name', StringType(), True), StructField('industry', StringType(), True), StructField('revenue_(usd_millions)', LongType(), True), StructField('revenue_growth', StringType(), True), StructField('employees', StringType(), True), StructField('headquarters', StringType(), True)])"
      ]
     },
     "execution_count": 23,
     "metadata": {},
     "output_type": "execute_result"
    }
   ],
   "source": [
    "spark_df.schema"
   ]
  },
  {
   "cell_type": "code",
   "execution_count": 24,
   "id": "ee5ee0f0-c433-46a0-94f3-5f8052d8a886",
   "metadata": {},
   "outputs": [
    {
     "name": "stdout",
     "output_type": "stream",
     "text": [
      "root\n",
      " |-- rank: long (nullable = true)\n",
      " |-- name: string (nullable = true)\n",
      " |-- industry: string (nullable = true)\n",
      " |-- revenue_(usd_millions): long (nullable = true)\n",
      " |-- revenue_growth: string (nullable = true)\n",
      " |-- employees: string (nullable = true)\n",
      " |-- headquarters: string (nullable = true)\n",
      "\n"
     ]
    }
   ],
   "source": [
    "spark_df.printSchema()"
   ]
  },
  {
   "cell_type": "code",
   "execution_count": 25,
   "id": "6a96199f-d767-4b14-bff1-c7cfa7588497",
   "metadata": {},
   "outputs": [],
   "source": [
    "schema = types.StructType([\n",
    "    types.StructField('rank', types.IntegerType(), True), \n",
    "    types.StructField('name', types.StringType(), True), \n",
    "    types.StructField('industry', types.StringType(), True), \n",
    "    types.StructField('revenue_(usd_millions)',types.IntegerType(), True), \n",
    "    types.StructField('revenue_growth', types.StringType(), True), \n",
    "    types.StructField('employees', types.IntegerType(), True), \n",
    "    types.StructField('headquarters', types.StringType(), True)\n",
    "])\n"
   ]
  },
  {
   "cell_type": "code",
   "execution_count": 26,
   "id": "f998f58f-1a14-459d-b193-5d899d451ca2",
   "metadata": {},
   "outputs": [],
   "source": [
    "spark_df =spark.read.options(header = \"false\", sep=',').schema(schema).csv(\"new_worlds_largest_companies.csv\")"
   ]
  },
  {
   "cell_type": "code",
   "execution_count": 27,
   "id": "59836eb3-40eb-4301-aee1-0293d2c9f568",
   "metadata": {},
   "outputs": [
    {
     "name": "stdout",
     "output_type": "stream",
     "text": [
      "+----+--------------------+--------------------+----------------------+--------------+---------+--------------------+\n",
      "|rank|                name|            industry|revenue_(usd_millions)|revenue_growth|employees|        headquarters|\n",
      "+----+--------------------+--------------------+----------------------+--------------+---------+--------------------+\n",
      "|NULL|                name|            industry|                  NULL|revenue_growth|     NULL|        headquarters|\n",
      "|   1|             walmart|              retail|                611289|          6.7%|  2100000|bentonville, arka...|\n",
      "|   2|              amazon|retail and cloud ...|                513983|          9.4%|  1540000| seattle, washington|\n",
      "|   3|          exxonmobil|  petroleum industry|                413680|         44.8%|    62000|       spring, texas|\n",
      "|   4|               apple|electronics industry|                394328|          7.8%|   164000|cupertino, califo...|\n",
      "|   5|  unitedhealth group|          healthcare|                324162|         12.7%|   400000|minnetonka, minne...|\n",
      "|   6|          cvs health|          healthcare|                322467|         10.4%|   259500|woonsocket, rhode...|\n",
      "|   7|  berkshire hathaway|        conglomerate|                302089|          9.4%|   383000|     omaha, nebraska|\n",
      "|   8|            alphabet|technology and cl...|                282836|          9.8%|   156000|mountain view, ca...|\n",
      "|   9|mckesson corporation|              health|                276711|          4.8%|    48500|       irving, texas|\n",
      "|  10| chevron corporation|  petroleum industry|                246252|         51.6%|    43846|san ramon, califo...|\n",
      "|  11|             cencora|  pharmacy wholesale|                238587|         11.5%|    41500|chesterbrook, pen...|\n",
      "|  12|              costco|              retail|                226954|         15.8%|   304000|issaquah, washington|\n",
      "|  13|           microsoft|technology and cl...|                198270|         18.0%|   221000| redmond, washington|\n",
      "|  14|     cardinal health|          healthcare|                181364|         11.6%|    46035|        dublin, ohio|\n",
      "|  15|               cigna|    health insurance|                180516|          3.7%|    70231|bloomfield, conne...|\n",
      "|  16|  marathon petroleum|  petroleum industry|                180012|         27.6%|    17800|       findlay, ohio|\n",
      "|  17|         phillips 66|  petroleum industry|                175702|         53.0%|    13000|      houston, texas|\n",
      "|  18|       valero energy|  petroleum industry|                171189|         58.0%|     9743|  san antonio, texas|\n",
      "|  19|  ford motor company| automotive industry|                158057|         15.9%|   173000|  dearborn, michigan|\n",
      "+----+--------------------+--------------------+----------------------+--------------+---------+--------------------+\n",
      "only showing top 20 rows\n",
      "\n"
     ]
    }
   ],
   "source": [
    "spark_df.show()"
   ]
  },
  {
   "cell_type": "code",
   "execution_count": 28,
   "id": "b34add56-7978-498b-a559-73c9cc2ec68c",
   "metadata": {},
   "outputs": [
    {
     "data": {
      "text/plain": [
       "StructType([StructField('rank', IntegerType(), True), StructField('name', StringType(), True), StructField('industry', StringType(), True), StructField('revenue_(usd_millions)', IntegerType(), True), StructField('revenue_growth', StringType(), True), StructField('employees', IntegerType(), True), StructField('headquarters', StringType(), True)])"
      ]
     },
     "execution_count": 28,
     "metadata": {},
     "output_type": "execute_result"
    }
   ],
   "source": [
    "spark_df.schema"
   ]
  },
  {
   "cell_type": "code",
   "execution_count": 29,
   "id": "a51067f9-f455-4002-aeba-846752cd02d9",
   "metadata": {},
   "outputs": [
    {
     "name": "stdout",
     "output_type": "stream",
     "text": [
      "root\n",
      " |-- rank: integer (nullable = true)\n",
      " |-- name: string (nullable = true)\n",
      " |-- industry: string (nullable = true)\n",
      " |-- revenue_(usd_millions): integer (nullable = true)\n",
      " |-- revenue_growth: string (nullable = true)\n",
      " |-- employees: integer (nullable = true)\n",
      " |-- headquarters: string (nullable = true)\n",
      "\n"
     ]
    }
   ],
   "source": [
    "spark_df.printSchema()"
   ]
  },
  {
   "cell_type": "code",
   "execution_count": 30,
   "id": "2d1c7160-46da-4359-b520-e6a03f937f56",
   "metadata": {},
   "outputs": [
    {
     "name": "stderr",
     "output_type": "stream",
     "text": [
      "24/05/10 12:55:39 WARN GarbageCollectionMetrics: To enable non-built-in garbage collector(s) List(G1 Concurrent GC), users should configure it(them) to spark.eventLog.gcMetrics.youngGenerationGarbageCollectors or spark.eventLog.gcMetrics.oldGenerationGarbageCollectors\n"
     ]
    }
   ],
   "source": [
    "#write the data to our postgres\n",
    "if spark_df:\n",
    "    try:\n",
    "         spark_df.write.format(\"jdbc\") \\\n",
    "                 .options(url=\"jdbc:postgresql://172.21.0.3:5432/postgres\",\n",
    "                          dbtable=\"public.world_largest_companies\",\n",
    "                          user=\"root\",\n",
    "                          password=\"root\",\n",
    "                          driver=\"org.postgresql.Driver\") \\\n",
    "                 .mode('overwrite') \\\n",
    "                 .save()\n",
    "    except Exception as e:\n",
    "        print(\"excuse me only spark dataframes are allowed\")\n",
    "   \n",
    "   "
   ]
  },
  {
   "cell_type": "code",
   "execution_count": null,
   "id": "d97211d3-bdf7-4227-9515-d8607902a29c",
   "metadata": {},
   "outputs": [],
   "source": []
  }
 ],
 "metadata": {
  "kernelspec": {
   "display_name": "Python 3 (ipykernel)",
   "language": "python",
   "name": "python3"
  },
  "language_info": {
   "codemirror_mode": {
    "name": "ipython",
    "version": 3
   },
   "file_extension": ".py",
   "mimetype": "text/x-python",
   "name": "python",
   "nbconvert_exporter": "python",
   "pygments_lexer": "ipython3",
   "version": "3.12.2"
  }
 },
 "nbformat": 4,
 "nbformat_minor": 5
}
