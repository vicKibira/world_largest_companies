{
 "cells": [
  {
   "cell_type": "code",
   "execution_count": null,
   "id": "bbc366c0-7eb2-4d7b-9b04-f627be008576",
   "metadata": {},
   "outputs": [],
   "source": [
    "import pandas as pd"
   ]
  },
  {
   "cell_type": "code",
   "execution_count": null,
   "id": "bb6de180-654c-4d47-b92e-c70672d8a936",
   "metadata": {},
   "outputs": [],
   "source": [
    "df = pd.read_html('https://en.wikipedia.org/wiki/List_of_largest_companies_in_the_United_States_by_revenue')"
   ]
  },
  {
   "cell_type": "code",
   "execution_count": null,
   "id": "039e1516-1638-434f-947b-51792ea6d3a3",
   "metadata": {},
   "outputs": [],
   "source": [
    "df = df[1]"
   ]
  },
  {
   "cell_type": "code",
   "execution_count": null,
   "id": "5ae62ede-45cb-4044-bbe8-04d4f2b2e2ef",
   "metadata": {},
   "outputs": [],
   "source": [
    "df.to_csv('world_revenue.csv', index=False)"
   ]
  },
  {
   "cell_type": "code",
   "execution_count": null,
   "id": "f5361da0-9987-4742-88cd-9b3ac4d5f783",
   "metadata": {},
   "outputs": [],
   "source": []
  },
  {
   "cell_type": "code",
   "execution_count": null,
   "id": "f6559405-078f-4525-b15f-524eab6f62b6",
   "metadata": {},
   "outputs": [],
   "source": [
    "#this checks whether it is a dataframe\n",
    "#print(type(df))"
   ]
  },
  {
   "cell_type": "code",
   "execution_count": null,
   "id": "ca6eb390-d13e-46b9-a56b-7db452e8e7ee",
   "metadata": {},
   "outputs": [],
   "source": []
  },
  {
   "cell_type": "code",
   "execution_count": null,
   "id": "740e479b-d80a-4074-9d13-c5d661a37479",
   "metadata": {},
   "outputs": [],
   "source": []
  },
  {
   "cell_type": "code",
   "execution_count": null,
   "id": "41d26384-0c41-4241-b064-f6b54661e7c8",
   "metadata": {},
   "outputs": [],
   "source": []
  },
  {
   "cell_type": "code",
   "execution_count": null,
   "id": "74496327-24f2-418b-8683-d13431a94af4",
   "metadata": {},
   "outputs": [],
   "source": []
  },
  {
   "cell_type": "code",
   "execution_count": null,
   "id": "50073b62-5066-4a6c-af39-69bf0f6401b4",
   "metadata": {},
   "outputs": [],
   "source": []
  },
  {
   "cell_type": "code",
   "execution_count": null,
   "id": "06abe133-3655-4be3-934a-444e46aeadd0",
   "metadata": {},
   "outputs": [],
   "source": []
  },
  {
   "cell_type": "code",
   "execution_count": null,
   "id": "c7e9e4bd-b165-42a9-81ce-c5c2cbf810d0",
   "metadata": {},
   "outputs": [],
   "source": []
  },
  {
   "cell_type": "code",
   "execution_count": null,
   "id": "769629c5-74d7-42e6-a412-0c248cc761bf",
   "metadata": {},
   "outputs": [],
   "source": []
  },
  {
   "cell_type": "code",
   "execution_count": null,
   "id": "b8bc849f-12a4-497e-9083-8bbb19d0ecce",
   "metadata": {},
   "outputs": [],
   "source": []
  },
  {
   "cell_type": "code",
   "execution_count": null,
   "id": "a7d7f975-8787-42e8-9260-eda071b9058e",
   "metadata": {},
   "outputs": [],
   "source": [
    " "
   ]
  }
 ],
 "metadata": {
  "kernelspec": {
   "display_name": "Python 3 (ipykernel)",
   "language": "python",
   "name": "python3"
  },
  "language_info": {
   "codemirror_mode": {
    "name": "ipython",
    "version": 3
   },
   "file_extension": ".py",
   "mimetype": "text/x-python",
   "name": "python",
   "nbconvert_exporter": "python",
   "pygments_lexer": "ipython3",
   "version": "3.12.2"
  }
 },
 "nbformat": 4,
 "nbformat_minor": 5
}
